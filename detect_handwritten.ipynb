{
 "cells": [
  {
   "cell_type": "raw",
   "metadata": {},
   "source": [
    "Copyright [zashio]\n",
    "\n",
    "Licensed under the Apache License, Version 2.0 (the \"License\");\n",
    "you may not use this file except in compliance with the License.\n",
    "You may obtain a copy of the License at\n",
    "\n",
    "    http://www.apache.org/licenses/LICENSE-2.0\n",
    "\n",
    "Unless required by applicable law or agreed to in writing, software\n",
    "distributed under the License is distributed on an \"AS IS\" BASIS,\n",
    "WITHOUT WARRANTIES OR CONDITIONS OF ANY KIND, either express or implied.\n",
    "See the License for the specific language governing permissions and\n",
    "limitations under the License."
   ]
  },
  {
   "cell_type": "code",
   "execution_count": 1,
   "metadata": {},
   "outputs": [],
   "source": [
    "import os\n",
    "os.environ[\"GOOGLE_APPLICATION_CREDENTIALS\"]= \"C:/Users/USER02/Documents/Voice2Text.json\""
   ]
  },
  {
   "cell_type": "code",
   "execution_count": 2,
   "metadata": {},
   "outputs": [],
   "source": [
    "import io"
   ]
  },
  {
   "cell_type": "code",
   "execution_count": 3,
   "metadata": {},
   "outputs": [],
   "source": [
    "def detect_handwritten_ocr(path):\n",
    "    \"\"\"Detects handwritten characters in a local image.\n",
    "\n",
    "    Args:\n",
    "    path: The path to the local file.\n",
    "    \"\"\"\n",
    "    from google.cloud import vision_v1p3beta1 as vision\n",
    "    client = vision.ImageAnnotatorClient()\n",
    "\n",
    "    with io.open(path, 'rb') as image_file:\n",
    "        content = image_file.read()\n",
    "\n",
    "    image = vision.types.Image(content=content)\n",
    "\n",
    "    # Language hint codes for handwritten OCR:\n",
    "    # en-t-i0-handwrit, mul-Latn-t-i0-handwrit\n",
    "    # Note: Use only one language hint code per request for handwritten OCR.\n",
    "#    image_context = vision.types.ImageContext(\n",
    "#        language_hints=['ja-t-i0-handwrit'])\n",
    "\n",
    "    response = client.document_text_detection(image=image,\n",
    "#                                              image_context=image_context\n",
    "                                             )\n",
    "\n",
    "    print('Full Text: {}'.format(response.full_text_annotation.text))\n",
    "    for page in response.full_text_annotation.pages:\n",
    "        for block in page.blocks:\n",
    "            print('\\nBlock confidence: {}\\n'.format(block.confidence))\n",
    "\n",
    "            for paragraph in block.paragraphs:\n",
    "                print('Paragraph confidence: {}'.format(\n",
    "                    paragraph.confidence))\n",
    "\n",
    "                for word in paragraph.words:\n",
    "                    word_text = ''.join([\n",
    "                        symbol.text for symbol in word.symbols\n",
    "                    ])\n",
    "                    print('Word text: {} (confidence: {})'.format(\n",
    "                        word_text, word.confidence))\n",
    "\n",
    "#                    for symbol in word.symbols:\n",
    "#                        print('\\tSymbol: {} (confidence: {})'.format(\n",
    "#                            symbol.text, symbol.confidence))"
   ]
  },
  {
   "cell_type": "code",
   "execution_count": 4,
   "metadata": {},
   "outputs": [
    {
     "name": "stdout",
     "output_type": "stream",
     "text": [
      "Full Text: ええいああ 君からもらい泣き\n",
      "(まろ)(ほうり) きりはっち\n",
      "Morainaki 100 370\n",
      "\n",
      "\n",
      "Block confidence: 0.5699999928474426\n",
      "\n",
      "Paragraph confidence: 0.5699999928474426\n",
      "Word text: ええいああ (confidence: 0.75)\n",
      "Word text: 君からもらい泣き (confidence: 0.6000000238418579)\n",
      "Word text: ( (confidence: 0.9200000166893005)\n",
      "Word text: まろ (confidence: 0.699999988079071)\n",
      "Word text: ) (confidence: 0.9100000262260437)\n",
      "Word text: ( (confidence: 0.1899999976158142)\n",
      "Word text: ほうり (confidence: 0.4699999988079071)\n",
      "Word text: ) (confidence: 0.550000011920929)\n",
      "Word text: きりはっち (confidence: 0.28999999165534973)\n",
      "\n",
      "Block confidence: 0.8899999856948853\n",
      "\n",
      "Paragraph confidence: 0.8899999856948853\n",
      "Word text: Morainaki (confidence: 0.9800000190734863)\n",
      "Word text: 100 (confidence: 0.8600000143051147)\n",
      "Word text: 370 (confidence: 0.6800000071525574)\n"
     ]
    }
   ],
   "source": [
    "file_name = os.path.join('resource', 'morainaki.jpg')\n",
    "detect_handwritten_ocr(file_name)"
   ]
  },
  {
   "cell_type": "markdown",
   "metadata": {},
   "source": [
    "<img src=\"resource/morainaki.jpg\" style=\"width: 600px;\">"
   ]
  },
  {
   "cell_type": "code",
   "execution_count": null,
   "metadata": {},
   "outputs": [],
   "source": []
  }
 ],
 "metadata": {
  "kernelspec": {
   "display_name": "Python 3",
   "language": "python",
   "name": "python3"
  },
  "language_info": {
   "codemirror_mode": {
    "name": "ipython",
    "version": 3
   },
   "file_extension": ".py",
   "mimetype": "text/x-python",
   "name": "python",
   "nbconvert_exporter": "python",
   "pygments_lexer": "ipython3",
   "version": "3.6.6"
  }
 },
 "nbformat": 4,
 "nbformat_minor": 2
}
